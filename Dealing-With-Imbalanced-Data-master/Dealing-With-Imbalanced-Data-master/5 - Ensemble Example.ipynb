{
 "cells": [
  {
   "cell_type": "code",
   "execution_count": 3,
   "metadata": {
    "collapsed": false
   },
   "outputs": [],
   "source": [
    "# In this example I use Easy Ensemble which is a method of imblearn. Easy Ensemble belongs to \n",
    "# the family of ensemble methods used to address the imbalanced class problem.\n",
    "\n",
    "import pandas as pd\n",
    "import numpy as np\n",
    "from sklearn.cross_validation import KFold, train_test_split\n",
    "from imblearn.ensemble import EasyEnsemble\n",
    "from sklearn.ensemble import AdaBoostClassifier\n",
    "from sklearn.grid_search import GridSearchCV\n",
    "from sklearn.metrics import classification_report\n",
    "from collections import Counter\n",
    "\n",
    "# majority class : L  /  minority class : S \n",
    "# Our goal is to maximise precision on the majority class and maximise recall on the minority\n",
    "# class."
   ]
  },
  {
   "cell_type": "code",
   "execution_count": 4,
   "metadata": {
    "collapsed": true
   },
   "outputs": [],
   "source": [
    "loc = r\"C:\\Users\\me\\Documents\\datasets\\yeast3.dat\"\n",
    "\n",
    "df = pd.read_csv(loc, sep=',', header=None)\n",
    "\n",
    "columns = ['mcg', 'gvh', 'alm', 'mit', 'erl', 'pox', 'vac', 'nuc', 'target']\n",
    "\n",
    "df.columns = columns\n",
    "\n",
    "df.target = df[\"target\"].str.replace('negative', 'L')\n",
    "df.target = df[\"target\"].str.replace('positive', 'S')\n",
    "\n",
    "y = df.target\n",
    "\n",
    "X = df.drop('target', axis=1)\n",
    "\n",
    "X_train, X_test, y_train, y_test = train_test_split(X, y, train_size=0.7)\n",
    "\n",
    "y_train, y_test = np.asarray(y_train), np.asarray(y_test)\n",
    "\n",
    "ens = EasyEnsemble()\n",
    "X_train_res, y_train_res = ens.fit_sample(X_train, y_train)\n",
    "\n",
    "y_pred_proba = np.zeros(len(y_test))"
   ]
  },
  {
   "cell_type": "code",
   "execution_count": 5,
   "metadata": {
    "collapsed": false
   },
   "outputs": [
    {
     "name": "stdout",
     "output_type": "stream",
     "text": [
      "             precision    recall  f1-score   support\n",
      "\n",
      "          L       0.99      0.95      0.97       399\n",
      "          S       0.67      0.91      0.77        47\n",
      "\n",
      "avg / total       0.96      0.94      0.95       446\n",
      "\n"
     ]
    }
   ],
   "source": [
    "for idx in range(len(y_train_res)):\n",
    "    clf_base = AdaBoostClassifier()\n",
    "    grid = {'n_estimators': [10, 50, 100]}\n",
    "\n",
    "    cv = KFold(X_train_res.shape[0], n_folds=5, shuffle=True, random_state=0)\n",
    "    clf = GridSearchCV(clf_base, grid, cv=cv, scoring='f1_macro')\n",
    "    clf.fit(X_train_res[idx], y_train_res[idx])\n",
    "    y_pred_proba += list(zip(*clf.predict_proba(X_test)))[0]\n",
    "    \n",
    "y_pred_proba = y_pred_proba/len(y_train_res)\n",
    "y_pred = (y_pred_proba > 0.5).astype(int)\n",
    "y_pred = y_pred.astype('str')\n",
    "y_pred[y_pred=='1'] = 'L'\n",
    "y_pred[y_pred=='0'] = 'S'\n",
    "y_test[y_test==' L'] = 'L'\n",
    "y_test[y_test==' S'] = 'S'\n",
    "\n",
    "print (classification_report(y_test, y_pred))"
   ]
  }
 ],
 "metadata": {
  "anaconda-cloud": {},
  "kernelspec": {
   "display_name": "Python [Root]",
   "language": "python",
   "name": "Python [Root]"
  },
  "language_info": {
   "codemirror_mode": {
    "name": "ipython",
    "version": 3
   },
   "file_extension": ".py",
   "mimetype": "text/x-python",
   "name": "python",
   "nbconvert_exporter": "python",
   "pygments_lexer": "ipython3",
   "version": "3.5.2"
  }
 },
 "nbformat": 4,
 "nbformat_minor": 0
}
